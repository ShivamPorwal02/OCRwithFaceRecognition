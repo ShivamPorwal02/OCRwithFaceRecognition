{
 "metadata": {
  "language_info": {
   "codemirror_mode": {
    "name": "ipython",
    "version": 3
   },
   "file_extension": ".py",
   "mimetype": "text/x-python",
   "name": "python",
   "nbconvert_exporter": "python",
   "pygments_lexer": "ipython3",
   "version": "3.8.2-final"
  },
  "orig_nbformat": 2,
  "kernelspec": {
   "name": "python_defaultSpec_1596911776433",
   "display_name": "Python 3.8.2 64-bit"
  }
 },
 "nbformat": 4,
 "nbformat_minor": 2,
 "cells": [
  {
   "cell_type": "code",
   "execution_count": null,
   "metadata": {
    "tags": []
   },
   "outputs": [],
   "source": [
    "from PIL import Image\n",
    "from zipfile import ZipFile\n",
    "from PIL import Image\n",
    "import pytesseract\n",
    "import cv2 as cv\n",
    "from PIL import ImageDraw\n",
    "import numpy as np\n",
    "import PIL\n",
    "import math\n",
    "\n",
    "name=input()\n",
    "face_cascade = cv.CascadeClassifier('haarcascade_frontalface_default.xml')\n",
    "with ZipFile('small_img.zip', 'r') as zip:\n",
    "    for item in (zip.infolist()):\n",
    "        with zip.open(item) as pict:\n",
    "            img = Image.open(pict)\n",
    "            img = img.convert('L')\n",
    "            im = np.array(img)\n",
    "            text = pytesseract.image_to_string(img)\n",
    "            text = list(text.split())\n",
    "            images=[]\n",
    "            if name in text:\n",
    "                faces = face_cascade.detectMultiScale(im, 1.3,5)\n",
    "                pil_img = Image.open(pict).convert(\"RGB\")\n",
    "                drawing = ImageDraw.Draw(pil_img)\n",
    "                for x, y, w, h in faces:\n",
    "                    drawing.rectangle((x, y, x+w, y+h), outline=\"white\")\n",
    "                    bounding_box=(x,y,x+w,y+h)\n",
    "                    title_image=pil_img.crop(bounding_box)\n",
    "                    images.append(title_image)\n",
    "                no_img=len(images)\n",
    "                avg_height=0\n",
    "                avg_width=0\n",
    "                first=images[0]\n",
    "                print(\"Results found in file {}\".format(item.filename))\n",
    "                if len(images)==0:\n",
    "                    print(\"But there were no faces in that file\")\n",
    "                for pic in images:\n",
    "                    avg_width+=pic.width\n",
    "                    avg_height+=pic.height    \n",
    "                avg_height=int(avg_height/no_img)\n",
    "                avg_width=int(avg_width/no_img)    \n",
    "                contact_sheet=PIL.Image.new(first.mode,(avg_width*5,avg_height*(math.ceil(no_img/5))))\n",
    "                x=0\n",
    "                y=0\n",
    "                for i in images:\n",
    "                    i=i.resize((avg_width,avg_height))\n",
    "                    contact_sheet.paste(i, (x, y) )\n",
    "                    if x+avg_width == contact_sheet.width:\n",
    "                        x=0\n",
    "                        y=y+avg_height\n",
    "                    else:\n",
    "                        x=x+avg_width\n",
    "                contact_sheet = contact_sheet.resize((int(contact_sheet.width/2),int(contact_sheet.height/2) ))    \n",
    "                display(contact_sheet)\n"
   ]
  },
  {
   "cell_type": "code",
   "execution_count": null,
   "metadata": {},
   "outputs": [],
   "source": []
  }
 ]
}